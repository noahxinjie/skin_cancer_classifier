{
 "cells": [
  {
   "cell_type": "code",
   "execution_count": 12,
   "metadata": {},
   "outputs": [
    {
     "name": "stdout",
     "output_type": "stream",
     "text": [
      "No grayscale images found.\n"
     ]
    }
   ],
   "source": [
    "import cv2\n",
    "import os\n",
    "import matplotlib.pyplot as plt\n",
    "from collections import Counter\n",
    "\n",
    "def isgray(imgpath):\n",
    "    img = cv2.imread(imgpath)\n",
    "    if len(img.shape) < 3:\n",
    "        return True\n",
    "    if img.shape[2] == 1:\n",
    "        return True\n",
    "    b, g, r = img[:,:,0], img[:,:,1], img[:,:,2]\n",
    "    if (b == g).all() and (b == r).all():\n",
    "        return True\n",
    "    return False\n",
    "\n",
    "image_sizes = Counter()\n",
    "def check_images(directory):\n",
    "    grayscale_images = []\n",
    "    for root, _, files in os.walk(directory):\n",
    "        for file in files:\n",
    "            if file.endswith(\".jpg\") or file.endswith(\".png\"):  \n",
    "                filepath = os.path.join(root, file)\n",
    "                if isgray(filepath):\n",
    "                    grayscale_images.append(file)\n",
    "                size = cv2.imread(filepath).shape\n",
    "                image_sizes[size] += 1\n",
    "    if grayscale_images:\n",
    "        print(len(grayscale_images))\n",
    "        print(\"Grayscale images found:\")\n",
    "        print(grayscale_images)\n",
    "    else:\n",
    "        print(\"No grayscale images found.\")\n",
    "    \n",
    "check_images('isic2019_modified')\n"
   ]
  },
  {
   "cell_type": "code",
   "execution_count": 48,
   "metadata": {},
   "outputs": [
    {
     "name": "stdout",
     "output_type": "stream",
     "text": [
      "image size:(1024, 1024, 3) and frequency:10325\n",
      "image size:(450, 600, 3) and frequency:6672\n",
      "image size:(680, 1024, 3) and frequency:773\n",
      "image size:(768, 1024, 3) and frequency:479\n",
      "image size:(224, 224, 3) and frequency:266\n",
      "image size:(416, 416, 3) and frequency:240\n",
      "image size:(685, 1024, 3) and frequency:103\n",
      "image size:(682, 1024, 3) and frequency:93\n",
      "image size:(764, 1024, 3) and frequency:81\n",
      "image size:(681, 1024, 3) and frequency:51\n"
     ]
    }
   ],
   "source": [
    "for image_size, frequency in image_sizes.most_common(10):\n",
    "    print(f\"image size:{image_size} and frequency:{frequency}\")\n"
   ]
  },
  {
   "cell_type": "code",
   "execution_count": 45,
   "metadata": {},
   "outputs": [
    {
     "data": {
      "image/png": "[encoded data removed]",
      "text/plain": [
       "<Figure size 432x288 with 1 Axes>"
      ]
     },
     "metadata": {
      "needs_background": "light"
     },
     "output_type": "display_data"
    }
   ],
   "source": [
    "labels, values = image_sizes.keys(), image_sizes.values()\n",
    "\n",
    "import numpy as np\n",
    "indexes = np.arange(len(labels))\n",
    "width = 1\n",
    "\n",
    "plt.bar(indexes, values, width)\n",
    "plt.xticks(indexes + width * 0.5, labels)\n",
    "plt.show()"
   ]
  },
  {
   "cell_type": "code",
   "execution_count": 5,
   "metadata": {},
   "outputs": [],
   "source": [
    "import os \n",
    "import torch\n",
    "from torchvision import datasets, transforms\n",
    "from torch.utils.data.dataset import Dataset\n",
    "from tqdm.notebook import tqdm\n",
    "\n",
    "data_dir = 'isic2019_modified'\n",
    "train_dir = f'{data_dir}/train'\n",
    "N_CHANNELS = 3\n"
   ]
  },
  {
   "cell_type": "code",
   "execution_count": 10,
   "metadata": {},
   "outputs": [],
   "source": [
    "def compute_stats(train_loader):\n",
    "    # Initialize sums and squared sums\n",
    "    sum_means = torch.zeros(N_CHANNELS)\n",
    "    sum_vars = torch.zeros(N_CHANNELS)\n",
    "    n_pixels_per_channel = 0\n",
    "\n",
    "    # Compute sums and squared sums\n",
    "    for inputs, _ in tqdm(train_loader):\n",
    "        # inputs shape is [batch_size, channels, height, width]\n",
    "        n_batch, n_channels, height, width = inputs.shape\n",
    "        print(inputs.shape)\n",
    "        n_pixels_per_channel += n_batch * height * width\n",
    "        \n",
    "        sum_means += inputs.sum(dim=[0, 2, 3])  # sum over batch, height, and width for each channel\n",
    "        sum_vars += (inputs ** 2).sum(dim=[0, 2, 3])\n",
    "\n",
    "    # Calculate mean and std\n",
    "    mean = sum_means / n_pixels_per_channel\n",
    "    std = torch.sqrt(sum_vars / n_pixels_per_channel - mean ** 2)\n",
    "\n",
    "    print('Mean:', mean)\n",
    "    print('Std Deviation:', std)"
   ]
  },
  {
   "cell_type": "code",
   "execution_count": 6,
   "metadata": {},
   "outputs": [
    {
     "data": {
      "application/vnd.jupyter.widget-view+json": {
       "model_id": "abc1a04ecc054dacacdcf13705781206",
       "version_major": 2,
       "version_minor": 0
      },
      "text/plain": [
       "  0%|          | 0/17591 [00:00<?, ?it/s]"
      ]
     },
     "metadata": {},
     "output_type": "display_data"
    },
    {
     "name": "stdout",
     "output_type": "stream",
     "text": [
      "Mean: tensor([0.6517, 0.5231, 0.5156])\n",
      "Std Deviation: tensor([0.2293, 0.2076, 0.2190])\n"
     ]
    }
   ],
   "source": [
    "data_transforms = transforms.Compose([\n",
    "        transforms.Resize((224, 224)),\n",
    "        transforms.ToTensor()\n",
    "        #transforms.Normalize([0.485, 0.456, 0.406], [0.229, 0.224, 0.225])\n",
    "    ])\n",
    "train_dataset = datasets.ImageFolder(train_dir, data_transforms) \n",
    "train_loader = torch.utils.data.DataLoader(train_dataset, shuffle=False, num_workers=os.cpu_count())\n",
    "compute_stats(train_loader)\n"
   ]
  },
  {
   "cell_type": "code",
   "execution_count": 8,
   "metadata": {},
   "outputs": [
    {
     "data": {
      "application/vnd.jupyter.widget-view+json": {
       "model_id": "a9833977e7284dfba03130e9f8efc6eb",
       "version_major": 2,
       "version_minor": 0
      },
      "text/plain": [
       "  0%|          | 0/17591 [00:00<?, ?it/s]"
      ]
     },
     "metadata": {},
     "output_type": "display_data"
    },
    {
     "name": "stdout",
     "output_type": "stream",
     "text": [
      "Mean: tensor([0.6518, 0.5231, 0.5156])\n",
      "Std Deviation: tensor([0.2293, 0.2076, 0.2190])\n"
     ]
    }
   ],
   "source": [
    "data_transforms = transforms.Compose([\n",
    "        transforms.Resize((256, 240)),\n",
    "        transforms.ToTensor()\n",
    "        #transforms.Normalize([0.485, 0.456, 0.406], [0.229, 0.224, 0.225])\n",
    "    ])\n",
    "train_dataset = datasets.ImageFolder(train_dir, data_transforms) \n",
    "train_loader = torch.utils.data.DataLoader(train_dataset, shuffle=False, num_workers=os.cpu_count())\n",
    "compute_stats(train_loader)\n"
   ]
  },
  {
   "cell_type": "code",
   "execution_count": 9,
   "metadata": {},
   "outputs": [
    {
     "data": {
      "application/vnd.jupyter.widget-view+json": {
       "model_id": "f5a214c4bfdf4665a8b685229ee604e4",
       "version_major": 2,
       "version_minor": 0
      },
      "text/plain": [
       "  0%|          | 0/17591 [00:00<?, ?it/s]"
      ]
     },
     "metadata": {},
     "output_type": "display_data"
    },
    {
     "name": "stdout",
     "output_type": "stream",
     "text": [
      "Mean: tensor([0.6517, 0.5231, 0.5156])\n",
      "Std Deviation: tensor([0.2294, 0.2077, 0.2192])\n"
     ]
    }
   ],
   "source": [
    "data_transforms = transforms.Compose([\n",
    "        transforms.Resize((288, 288)),\n",
    "        transforms.ToTensor()\n",
    "        #transforms.Normalize([0.485, 0.456, 0.406], [0.229, 0.224, 0.225])\n",
    "    ])\n",
    "train_dataset = datasets.ImageFolder(train_dir, data_transforms) \n",
    "train_loader = torch.utils.data.DataLoader(train_dataset, shuffle=False, num_workers=os.cpu_count())\n",
    "compute_stats(train_loader)"
   ]
  }
 ],
 "metadata": {
  "kernelspec": {
   "display_name": "base",
   "language": "python",
   "name": "python3"
  },
  "language_info": {
   "codemirror_mode": {
    "name": "ipython",
    "version": 3
   },
   "file_extension": ".py",
   "mimetype": "text/x-python",
   "name": "python",
   "nbconvert_exporter": "python",
   "pygments_lexer": "ipython3",
   "version": "3.9.12"
  }
 },
 "nbformat": 4,
 "nbformat_minor": 2
}
